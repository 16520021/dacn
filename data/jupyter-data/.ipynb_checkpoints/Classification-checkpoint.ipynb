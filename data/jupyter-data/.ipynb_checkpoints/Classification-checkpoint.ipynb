{
 "cells": [
  {
   "cell_type": "code",
   "execution_count": 1,
   "metadata": {},
   "outputs": [],
   "source": [
    "from sklearn.base import BaseEstimator, TransformerMixin\n",
    "import pandas as pd\n",
    "from sklearn.model_selection import train_test_split\n",
    "from sklearn.metrics import roc_curve, roc_auc_score, f1_score\n",
    "from sklearn.naive_bayes import GaussianNB\n",
    "from sklearn.linear_model import LogisticRegression\n",
    "from sklearn.neural_network import MLPClassifier\n",
    "from sklearn.naive_bayes import BernoulliNB\n",
    "from sklearn.tree import DecisionTreeClassifier\n",
    "import numpy as np\n",
    "import matplotlib.pyplot as plt\n",
    "from sklearn.pipeline import Pipeline, FeatureUnion\n",
    "from sklearn.metrics import accuracy_score\n",
    "from sklearn.metrics import confusion_matrix\n",
    "from sklearn import metrics"
   ]
  },
  {
   "cell_type": "code",
   "execution_count": 2,
   "metadata": {},
   "outputs": [],
   "source": [
    "df = pd.read_csv('./data/totalwithmaininfo-2.csv',sep=',')\n",
    "df = df.drop(['respondent'],axis=1)"
   ]
  },
  {
   "cell_type": "code",
   "execution_count": 3,
   "metadata": {},
   "outputs": [
    {
     "data": {
      "text/html": [
       "<div>\n",
       "<style scoped>\n",
       "    .dataframe tbody tr th:only-of-type {\n",
       "        vertical-align: middle;\n",
       "    }\n",
       "\n",
       "    .dataframe tbody tr th {\n",
       "        vertical-align: top;\n",
       "    }\n",
       "\n",
       "    .dataframe thead th {\n",
       "        text-align: right;\n",
       "    }\n",
       "</style>\n",
       "<table border=\"1\" class=\"dataframe\">\n",
       "  <thead>\n",
       "    <tr style=\"text-align: right;\">\n",
       "      <th></th>\n",
       "      <th>EAR</th>\n",
       "      <th>MAR</th>\n",
       "      <th>Circularity</th>\n",
       "      <th>MOE</th>\n",
       "      <th>Y</th>\n",
       "      <th>EAR_N</th>\n",
       "      <th>MAR_N</th>\n",
       "      <th>Circularity_N</th>\n",
       "      <th>MOE_N</th>\n",
       "    </tr>\n",
       "  </thead>\n",
       "  <tbody>\n",
       "    <tr>\n",
       "      <th>0</th>\n",
       "      <td>0.274627</td>\n",
       "      <td>0.745216</td>\n",
       "      <td>0.366795</td>\n",
       "      <td>2.713560</td>\n",
       "      <td>0</td>\n",
       "      <td>-0.027154</td>\n",
       "      <td>0.207518</td>\n",
       "      <td>-1.115561</td>\n",
       "      <td>0.039685</td>\n",
       "    </tr>\n",
       "    <tr>\n",
       "      <th>1</th>\n",
       "      <td>0.250898</td>\n",
       "      <td>0.774664</td>\n",
       "      <td>0.402140</td>\n",
       "      <td>3.087563</td>\n",
       "      <td>0</td>\n",
       "      <td>-0.986146</td>\n",
       "      <td>0.879960</td>\n",
       "      <td>0.299631</td>\n",
       "      <td>0.979566</td>\n",
       "    </tr>\n",
       "    <tr>\n",
       "      <th>2</th>\n",
       "      <td>0.300371</td>\n",
       "      <td>0.688504</td>\n",
       "      <td>0.415034</td>\n",
       "      <td>2.292181</td>\n",
       "      <td>0</td>\n",
       "      <td>1.013301</td>\n",
       "      <td>-1.087477</td>\n",
       "      <td>0.815931</td>\n",
       "      <td>-1.019252</td>\n",
       "    </tr>\n",
       "    <tr>\n",
       "      <th>3</th>\n",
       "      <td>0.293565</td>\n",
       "      <td>0.704847</td>\n",
       "      <td>0.448924</td>\n",
       "      <td>2.400990</td>\n",
       "      <td>0</td>\n",
       "      <td>0.738246</td>\n",
       "      <td>-0.714297</td>\n",
       "      <td>2.172863</td>\n",
       "      <td>-0.745811</td>\n",
       "    </tr>\n",
       "    <tr>\n",
       "      <th>4</th>\n",
       "      <td>0.267408</td>\n",
       "      <td>0.766533</td>\n",
       "      <td>0.421098</td>\n",
       "      <td>2.866528</td>\n",
       "      <td>0</td>\n",
       "      <td>-0.318893</td>\n",
       "      <td>0.694287</td>\n",
       "      <td>1.058743</td>\n",
       "      <td>0.424099</td>\n",
       "    </tr>\n",
       "    <tr>\n",
       "      <th>...</th>\n",
       "      <td>...</td>\n",
       "      <td>...</td>\n",
       "      <td>...</td>\n",
       "      <td>...</td>\n",
       "      <td>...</td>\n",
       "      <td>...</td>\n",
       "      <td>...</td>\n",
       "      <td>...</td>\n",
       "      <td>...</td>\n",
       "    </tr>\n",
       "    <tr>\n",
       "      <th>17920</th>\n",
       "      <td>0.348480</td>\n",
       "      <td>1.049560</td>\n",
       "      <td>0.490477</td>\n",
       "      <td>3.011821</td>\n",
       "      <td>1</td>\n",
       "      <td>2.956311</td>\n",
       "      <td>3.460003</td>\n",
       "      <td>2.042874</td>\n",
       "      <td>-1.475660</td>\n",
       "    </tr>\n",
       "    <tr>\n",
       "      <th>17921</th>\n",
       "      <td>0.262352</td>\n",
       "      <td>1.053755</td>\n",
       "      <td>0.395392</td>\n",
       "      <td>4.016572</td>\n",
       "      <td>1</td>\n",
       "      <td>-0.983550</td>\n",
       "      <td>3.656491</td>\n",
       "      <td>-0.546386</td>\n",
       "      <td>1.891236</td>\n",
       "    </tr>\n",
       "    <tr>\n",
       "      <th>17922</th>\n",
       "      <td>0.319431</td>\n",
       "      <td>1.026230</td>\n",
       "      <td>0.490811</td>\n",
       "      <td>3.212684</td>\n",
       "      <td>1</td>\n",
       "      <td>1.627472</td>\n",
       "      <td>2.367059</td>\n",
       "      <td>2.051959</td>\n",
       "      <td>-0.802574</td>\n",
       "    </tr>\n",
       "    <tr>\n",
       "      <th>17923</th>\n",
       "      <td>0.256146</td>\n",
       "      <td>1.083715</td>\n",
       "      <td>0.378786</td>\n",
       "      <td>4.230846</td>\n",
       "      <td>1</td>\n",
       "      <td>-1.267420</td>\n",
       "      <td>5.060027</td>\n",
       "      <td>-0.998589</td>\n",
       "      <td>2.609263</td>\n",
       "    </tr>\n",
       "    <tr>\n",
       "      <th>17924</th>\n",
       "      <td>0.326811</td>\n",
       "      <td>0.999225</td>\n",
       "      <td>0.450339</td>\n",
       "      <td>3.057502</td>\n",
       "      <td>1</td>\n",
       "      <td>1.965058</td>\n",
       "      <td>1.101933</td>\n",
       "      <td>0.949859</td>\n",
       "      <td>-1.322583</td>\n",
       "    </tr>\n",
       "  </tbody>\n",
       "</table>\n",
       "<p>17925 rows × 9 columns</p>\n",
       "</div>"
      ],
      "text/plain": [
       "            EAR       MAR  Circularity       MOE  Y     EAR_N     MAR_N  \\\n",
       "0      0.274627  0.745216     0.366795  2.713560  0 -0.027154  0.207518   \n",
       "1      0.250898  0.774664     0.402140  3.087563  0 -0.986146  0.879960   \n",
       "2      0.300371  0.688504     0.415034  2.292181  0  1.013301 -1.087477   \n",
       "3      0.293565  0.704847     0.448924  2.400990  0  0.738246 -0.714297   \n",
       "4      0.267408  0.766533     0.421098  2.866528  0 -0.318893  0.694287   \n",
       "...         ...       ...          ...       ... ..       ...       ...   \n",
       "17920  0.348480  1.049560     0.490477  3.011821  1  2.956311  3.460003   \n",
       "17921  0.262352  1.053755     0.395392  4.016572  1 -0.983550  3.656491   \n",
       "17922  0.319431  1.026230     0.490811  3.212684  1  1.627472  2.367059   \n",
       "17923  0.256146  1.083715     0.378786  4.230846  1 -1.267420  5.060027   \n",
       "17924  0.326811  0.999225     0.450339  3.057502  1  1.965058  1.101933   \n",
       "\n",
       "       Circularity_N     MOE_N  \n",
       "0          -1.115561  0.039685  \n",
       "1           0.299631  0.979566  \n",
       "2           0.815931 -1.019252  \n",
       "3           2.172863 -0.745811  \n",
       "4           1.058743  0.424099  \n",
       "...              ...       ...  \n",
       "17920       2.042874 -1.475660  \n",
       "17921      -0.546386  1.891236  \n",
       "17922       2.051959 -0.802574  \n",
       "17923      -0.998589  2.609263  \n",
       "17924       0.949859 -1.322583  \n",
       "\n",
       "[17925 rows x 9 columns]"
      ]
     },
     "execution_count": 3,
     "metadata": {},
     "output_type": "execute_result"
    }
   ],
   "source": [
    "df"
   ]
  },
  {
   "cell_type": "code",
   "execution_count": 4,
   "metadata": {},
   "outputs": [],
   "source": [
    "train_percentage = 21/25\n",
    "train_index = int(len(df)*train_percentage)\n",
    "test_index = len(df)-train_index"
   ]
  },
  {
   "cell_type": "code",
   "execution_count": 5,
   "metadata": {},
   "outputs": [],
   "source": [
    "df_train = df[:train_index]\n",
    "df_test = df[-test_index:]"
   ]
  },
  {
   "cell_type": "code",
   "execution_count": 6,
   "metadata": {},
   "outputs": [],
   "source": [
    "X_test = df_test.drop([\"Y\"],axis=1)\n",
    "y_test = df_test[\"Y\"]"
   ]
  },
  {
   "cell_type": "code",
   "execution_count": 7,
   "metadata": {},
   "outputs": [],
   "source": [
    "X_train = df_train.drop('Y',axis=1)\n",
    "y_train = df_train['Y']"
   ]
  },
  {
   "cell_type": "code",
   "execution_count": 8,
   "metadata": {},
   "outputs": [],
   "source": [
    "def average(y_pred):\n",
    "  for i in range(len(y_pred)):\n",
    "    if i % 239 == 0 or (i+1) % 239 == 0:\n",
    "      pass\n",
    "    else: \n",
    "      average = float(y_pred[i-1] +  y_pred[i] + y_pred[i+1])/3\n",
    "      if average >= 0.5:\n",
    "        y_pred[i] = 1\n",
    "      else:\n",
    "        y_pred[i] = 0\n",
    "  return y_pred"
   ]
  },
  {
   "cell_type": "code",
   "execution_count": 11,
   "metadata": {},
   "outputs": [
    {
     "name": "stdout",
     "output_type": "stream",
     "text": [
      "LogisticRegression(max_iter=1000)\n"
     ]
    }
   ],
   "source": [
    "clf = LogisticRegression(max_iter=1000).fit(X_train, y_train)\n",
    "print(clf)\n",
    "y_pred_1 = clf.predict(X_test)\n",
    "y_pred_1 = average(y_pred_1)\n",
    "# y_score_1 = clf.predict_proba(X_test)[:,1]\n",
    "acc1 = accuracy_score(y_test, y_pred_1)\n",
    "# f1_score_1 = metrics.f1_score(y_test, y_pred_1)\n",
    "# roc_1 = metrics.roc_auc_score(y_test, y_score_1)\n",
    "# print([acc1,f1_score_1,roc_1])\n",
    "# print(confusion_matrix(y_test, y_pred_1))"
   ]
  },
  {
   "cell_type": "code",
   "execution_count": 12,
   "metadata": {},
   "outputs": [
    {
     "name": "stdout",
     "output_type": "stream",
     "text": [
      "0.5815899581589958\n"
     ]
    }
   ],
   "source": [
    "print(acc1)"
   ]
  },
  {
   "cell_type": "code",
   "execution_count": 13,
   "metadata": {},
   "outputs": [
    {
     "name": "stdout",
     "output_type": "stream",
     "text": [
      "0.6666666666666666\n"
     ]
    }
   ],
   "source": [
    "from sklearn.tree import DecisionTreeClassifier\n",
    "acc5=[]\n",
    "max_depth = []\n",
    "for i in [2,3,4,5,6,7,8,9,10]:\n",
    "    clf_DT = DecisionTreeClassifier(random_state=0, max_depth = i)\n",
    "    clf_DT.fit(X_train, y_train)\n",
    "    pred_DT = clf_DT.predict(X_test)\n",
    "    pred_DT = average(pred_DT)\n",
    "    acc5.append(accuracy_score(pred_DT, y_test))\n",
    "    max_depth.append(i)\n",
    "print (max(acc5))"
   ]
  },
  {
   "cell_type": "code",
   "execution_count": 14,
   "metadata": {},
   "outputs": [
    {
     "name": "stdout",
     "output_type": "stream",
     "text": [
      "0.6666666666666666\n"
     ]
    }
   ],
   "source": [
    "from sklearn.ensemble import RandomForestClassifier\n",
    "acc6=[]\n",
    "max_depth = []\n",
    "for i in range(1,10):\n",
    "    clf_RF = RandomForestClassifier(max_depth=i)\n",
    "    clf_RF.fit(X_train, y_train) \n",
    "    pred_RF = clf_RF.predict(X_test)\n",
    "    pred_RF = average(pred_RF)\n",
    "    acc6.append(accuracy_score(pred_RF, y_test))\n",
    "    max_depth.append(i)\n",
    "print (max(acc6))"
   ]
  },
  {
   "cell_type": "code",
   "execution_count": 15,
   "metadata": {},
   "outputs": [],
   "source": [
    "acc3_list = []\n",
    "f1_score3_list = []\n",
    "roc_3_list = []\n",
    "from sklearn.neighbors import KNeighborsClassifier\n",
    "for i in range(1,30):\n",
    "    neigh = KNeighborsClassifier(n_neighbors=i)\n",
    "    neigh.fit(X_train, y_train) \n",
    "    pred_KN = neigh.predict(X_test)\n",
    "    pred_KN = average(pred_KN)\n",
    "    y_score_3 = neigh.predict_proba(X_test)[:,1]\n",
    "    acc3_list.append(accuracy_score(y_test, pred_KN))\n",
    "    f1_score3_list.append(metrics.f1_score(y_test, pred_KN))\n",
    "    roc_3_list.append(metrics.roc_auc_score(y_test, y_score_3))"
   ]
  },
  {
   "cell_type": "code",
   "execution_count": 16,
   "metadata": {},
   "outputs": [
    {
     "data": {
      "text/plain": [
       "19"
      ]
     },
     "execution_count": 16,
     "metadata": {},
     "output_type": "execute_result"
    }
   ],
   "source": [
    "acc3_list.index(max(acc3_list))+1"
   ]
  },
  {
   "cell_type": "code",
   "execution_count": 17,
   "metadata": {},
   "outputs": [
    {
     "name": "stdout",
     "output_type": "stream",
     "text": [
      "[0.6687587168758717, 0.766240157480315, 0.5866250481434148]\n",
      "[[ 361  595]\n",
      " [ 355 1557]]\n"
     ]
    }
   ],
   "source": [
    "neigh = KNeighborsClassifier(n_neighbors=acc3_list.index(max(acc3_list))+1)\n",
    "neigh.fit(X_train, y_train) \n",
    "pred_KN = neigh.predict(X_test)\n",
    "pred_KN = average(pred_KN)\n",
    "y_score_3 = neigh.predict_proba(X_test)[:,1]\n",
    "acc3 = accuracy_score(y_test, pred_KN)\n",
    "f1_score_3 = metrics.f1_score(y_test, pred_KN)\n",
    "roc_3 = metrics.roc_auc_score(y_test, y_score_3)\n",
    "print([acc3,f1_score_3,roc_3])\n",
    "print(confusion_matrix(y_test, pred_KN))"
   ]
  },
  {
   "cell_type": "code",
   "execution_count": null,
   "metadata": {},
   "outputs": [],
   "source": []
  }
 ],
 "metadata": {
  "kernelspec": {
   "display_name": "Python 3",
   "language": "python",
   "name": "python3"
  },
  "language_info": {
   "codemirror_mode": {
    "name": "ipython",
    "version": 3
   },
   "file_extension": ".py",
   "mimetype": "text/x-python",
   "name": "python",
   "nbconvert_exporter": "python",
   "pygments_lexer": "ipython3",
   "version": "3.6.9"
  }
 },
 "nbformat": 4,
 "nbformat_minor": 4
}
