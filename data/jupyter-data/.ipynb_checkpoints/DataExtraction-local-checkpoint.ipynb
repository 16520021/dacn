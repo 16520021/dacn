{
 "cells": [
  {
   "cell_type": "code",
   "execution_count": 1,
   "metadata": {},
   "outputs": [
    {
     "name": "stdout",
     "output_type": "stream",
     "text": [
      "Downloading http://dlib.net/files/shape_predictor_68_face_landmarks.dat.bz2 to /root/mlxtend_data/shape_predictor_68_face_landmarks.dat.bz2\n"
     ]
    }
   ],
   "source": [
    "import numpy as np\n",
    "import math\n",
    "import csv\n",
    "import glob\n",
    "import imageio\n",
    "import numpy as np\n",
    "from mlxtend.image import extract_face_landmarks"
   ]
  },
  {
   "cell_type": "code",
   "execution_count": 2,
   "metadata": {},
   "outputs": [],
   "source": [
    "def eye_aspect_ratio(eye):\n",
    "    A = distance.euclidean(eye[1], eye[5])\n",
    "    B = distance.euclidean(eye[2], eye[4])\n",
    "    C = distance.euclidean(eye[0], eye[3])\n",
    "    ear = (A + B) / (2.0 * C)\n",
    "    return ear\n",
    "\n",
    "def mouth_aspect_ratio(mouth):\n",
    "  A = distance.euclidean(mouth[15], mouth[21])\n",
    "  C = distance.euclidean(mouth[12], mouth[18])\n",
    "  mar = (A ) / (C)\n",
    "  return mar\n",
    "\n",
    "def circularity(eye):\n",
    "    A = distance.euclidean(eye[1], eye[4])\n",
    "    radius  = A/2.0\n",
    "    Area = math.pi * (radius ** 2)\n",
    "    p = 0\n",
    "    p += distance.euclidean(eye[0], eye[1])\n",
    "    p += distance.euclidean(eye[1], eye[2])\n",
    "    p += distance.euclidean(eye[2], eye[3])\n",
    "    p += distance.euclidean(eye[3], eye[4])\n",
    "    p += distance.euclidean(eye[4], eye[5])\n",
    "    p += distance.euclidean(eye[5], eye[0])\n",
    "    return 4 * math.pi * Area /(p**2)\n",
    "\n",
    "def mouth_over_eye(eye):\n",
    "    ear = eye_aspect_ratio(eye)\n",
    "    mar = mouth_aspect_ratio(eye)\n",
    "    mouth_eye = mar/ear\n",
    "    return mouth_eye\n",
    "\n",
    "def getFrame(sec):\n",
    "    start = 180000\n",
    "    vidcap.set(cv2.CAP_PROP_POS_MSEC, start + sec*1000)\n",
    "    hasFrames,image = vidcap.read()\n",
    "    return hasFrames, image"
   ]
  },
  {
   "cell_type": "code",
   "execution_count": 3,
   "metadata": {},
   "outputs": [
    {
     "name": "stdout",
     "output_type": "stream",
     "text": [
      "starting on46\n",
      "46 0 240\n",
      "46 5 240\n",
      "46 10 240\n",
      "starting on48\n",
      "48 0 240\n",
      "48 5 240\n"
     ]
    },
    {
     "name": "stderr",
     "output_type": "stream",
     "text": [
      "/usr/local/lib/python3.6/dist-packages/mlxtend/image/extract_face_landmarks.py:66: UserWarning: No face detected.\n",
      "  warnings.warn('No face detected.')\n"
     ]
    },
    {
     "name": "stdout",
     "output_type": "stream",
     "text": [
      "48 10 240\n",
      "starting on51\n",
      "51 0 240\n",
      "51 5 240\n",
      "51 10 240\n",
      "starting on54\n",
      "54 0 240\n",
      "54 5 240\n",
      "54 10 240\n",
      "starting on55\n",
      "55 0 240\n",
      "55 5 240\n",
      "55 10 240\n",
      "starting on60\n",
      "60 0 240\n",
      "60 5 240\n",
      "60 10 240\n"
     ]
    }
   ],
   "source": [
    "from scipy.spatial import distance\n",
    "import cv2\n",
    "\n",
    "#EAR < 0.2 && MAR > 0.9\n",
    "dataSet = {\"Fold4_part2\":[46,48],\"Fold5_part1\":[51,54],\"Fold5_part2\":[55,60]}\n",
    "labelList = [0,5,10]\n",
    "azurePath = \"./dataset/\"\n",
    "clientPath = \"./data/\"\n",
    "for i in dataSet:\n",
    "    for j in dataSet[i]:\n",
    "        print('starting on' + str(j))\n",
    "        for label in labelList:\n",
    "            data = []\n",
    "            labels = []\n",
    "            rPath = azurePath + i + '/' + str(j) + '/' + str(label) + \".mp4\"\n",
    "            vidcap = cv2.VideoCapture(rPath)\n",
    "            sec = 0\n",
    "            frameRate = 1\n",
    "            success, image  = getFrame(sec)\n",
    "            count = 0\n",
    "            while success and count < 240: \n",
    "              landmarks = extract_face_landmarks(image)\n",
    "              if landmarks is not None and sum(sum(landmarks)) != 0:\n",
    "                  count += 1\n",
    "                  data.append(landmarks)\n",
    "                  labels.append([label])\n",
    "                  sec = sec + frameRate\n",
    "                  sec = round(sec, 2)\n",
    "                  success, image = getFrame(sec)\n",
    "              else:  \n",
    "                  sec = sec + frameRate\n",
    "                  sec = round(sec, 2)\n",
    "                  success, image = getFrame(sec)\n",
    "            print(j,label,count)\n",
    "            data = np.array(data)\n",
    "            labels = np.array(labels)\n",
    "            features = []\n",
    "            for d in data:\n",
    "              eye = d[36:68]\n",
    "              ear = eye_aspect_ratio(eye)\n",
    "              mar = mouth_aspect_ratio(eye)\n",
    "              cir = circularity(eye)\n",
    "              mouth_eye = mouth_over_eye(eye)\n",
    "              features.append([ear, mar, cir, mouth_eye])\n",
    "            features = np.array(features)\n",
    "            np.save(open(clientPath + str(j) + '/' + str(label) + '_Data.npy', 'wb'),data)\n",
    "            np.save(open(clientPath + str(j) + '/' + str(label) + '_Feature.npy', 'wb'),features)\n",
    "            np.save(open(clientPath + str(j) + '/' + str(label) + '_Label.npy', 'wb'),labels)\n",
    "            np.savetxt(clientPath + str(j) + '/' + str(label) + \"_Feature.csv\", features, delimiter = \",\")\n",
    "            np.savetxt(clientPath + str(j) + '/' + str(label) + \"_Label.csv\", labels, delimiter = \",\")\n",
    "            vidcap.release()\n",
    "            cv2.destroyAllWindows()"
   ]
  },
  {
   "cell_type": "code",
   "execution_count": null,
   "metadata": {},
   "outputs": [],
   "source": []
  }
 ],
 "metadata": {
  "kernelspec": {
   "display_name": "Python 3",
   "language": "python",
   "name": "python3"
  },
  "language_info": {
   "codemirror_mode": {
    "name": "ipython",
    "version": 3
   },
   "file_extension": ".py",
   "mimetype": "text/x-python",
   "name": "python",
   "nbconvert_exporter": "python",
   "pygments_lexer": "ipython3",
   "version": "3.6.9"
  }
 },
 "nbformat": 4,
 "nbformat_minor": 4
}
