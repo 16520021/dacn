{
 "cells": [
  {
   "cell_type": "code",
   "execution_count": 11,
   "metadata": {},
   "outputs": [
    {
     "name": "stdout",
     "output_type": "stream",
     "text": [
      "             Lần cuối         Mở        Cao       Thấp % Thay đổi\n",
      "Ngày                                                             \n",
      "30/05/2019  23,420.00  23,405.00  23,425.00  23,405.00      0.06%\n",
      "29/05/2019  23,407.00  23,396.00  23,413.00  23,391.00      0.06%\n",
      "28/05/2019  23,394.00  23,397.00  23,400.00  23,382.00      0.03%\n",
      "27/05/2019  23,388.00  23,397.00  23,397.00  23,382.00     -0.01%\n",
      "24/05/2019  23,390.00  23,400.00  23,407.00  23,380.00      0.00%\n",
      "...               ...        ...        ...        ...        ...\n",
      "3/4/2000    14,061.00  14,059.00  14,061.00  14,059.00      0.00%\n",
      "31/03/2000  14,061.00  14,059.00  14,061.00  14,059.00     -0.01%\n",
      "30/03/2000  14,062.50  14,062.00  14,062.50  14,062.00      0.00%\n",
      "29/03/2000  14,062.00  14,060.00  14,062.00  14,060.00     -0.02%\n",
      "28/03/2000  14,064.50  14,064.00  14,064.50  14,064.00      0.00%\n",
      "\n",
      "[5000 rows x 5 columns]\n"
     ]
    }
   ],
   "source": [
    "import pandas as pd\n",
    "from hdfs import InsecureClient\n",
    "import os\n",
    "\n",
    "# Connecting to Webhdfs by providing hdfs host ip and webhdfs port\n",
    "client_hdfs = InsecureClient('http://' + '192.168.99.100' + ':9870')\n",
    "with client_hdfs.read('/user/root/input/Data_USD_VND.csv', encoding = 'utf-8') as reader:\n",
    "    df = pd.read_csv(reader,index_col=0)\n",
    "print(df)"
   ]
  },
  {
   "cell_type": "code",
   "execution_count": null,
   "metadata": {},
   "outputs": [],
   "source": []
  }
 ],
 "metadata": {
  "kernelspec": {
   "display_name": "Python 3",
   "language": "python",
   "name": "python3"
  },
  "language_info": {
   "codemirror_mode": {
    "name": "ipython",
    "version": 3
   },
   "file_extension": ".py",
   "mimetype": "text/x-python",
   "name": "python",
   "nbconvert_exporter": "python",
   "pygments_lexer": "ipython3",
   "version": "3.6.9"
  }
 },
 "nbformat": 4,
 "nbformat_minor": 4
}
