{
 "cells": [
  {
   "cell_type": "code",
   "execution_count": 1,
   "metadata": {},
   "outputs": [],
   "source": [
    "import os\n",
    "import glob\n",
    "import pandas as pd\n",
    "import numpy as np\n",
    "# import pyspark\n",
    "\n",
    "# sc = pyspark.SparkContext(master = \"spark://spark-master:7077\",appName=\"MergeData\")\n",
    "# sqlContext = SQLContext(sc)\n",
    "folders = [4,6,9,11,12,15,16,17,23,24,27,29,34,35,36,37,39,40,44,46,48,51,54,55,60]\n",
    "files = [0,5,10]"
   ]
  },
  {
   "cell_type": "code",
   "execution_count": 2,
   "metadata": {
    "scrolled": true
   },
   "outputs": [
    {
     "name": "stdout",
     "output_type": "stream",
     "text": [
      "['0_Feature.csv', '0_Label.csv']\n",
      "['5_Feature.csv', '5_Label.csv']\n",
      "['10_Feature.csv', '10_Label.csv']\n",
      "['0_Feature.csv', '0_Label.csv']\n",
      "['5_Feature.csv', '5_Label.csv']\n",
      "['10_Feature.csv', '10_Label.csv']\n",
      "['0_Feature.csv', '0_Label.csv']\n",
      "['5_Feature.csv', '5_Label.csv']\n",
      "['10_Feature.csv', '10_Label.csv']\n",
      "['0_Feature.csv', '0_Label.csv']\n",
      "['5_Feature.csv', '5_Label.csv']\n",
      "['10_Feature.csv', '10_Label.csv']\n",
      "['0_Feature.csv', '0_Label.csv']\n",
      "['5_Feature.csv', '5_Label.csv']\n",
      "['10_Feature.csv', '10_Label.csv']\n",
      "['0_Feature.csv', '0_Label.csv']\n",
      "['5_Feature.csv', '5_Label.csv']\n",
      "['10_Feature.csv', '10_Label.csv']\n",
      "['0_Feature.csv', '0_Label.csv']\n",
      "['5_Feature.csv', '5_Label.csv']\n",
      "['10_Feature.csv', '10_Label.csv']\n",
      "['0_Feature.csv', '0_Label.csv']\n",
      "['5_Feature.csv', '5_Label.csv']\n",
      "['10_Feature.csv', '10_Label.csv']\n",
      "['0_Feature.csv', '0_Label.csv']\n",
      "['5_Feature.csv', '5_Label.csv']\n",
      "['10_Feature.csv', '10_Label.csv']\n",
      "['0_Feature.csv', '0_Label.csv']\n",
      "['5_Feature.csv', '5_Label.csv']\n",
      "['10_Feature.csv', '10_Label.csv']\n",
      "['0_Feature.csv', '0_Label.csv']\n",
      "['5_Feature.csv', '5_Label.csv']\n",
      "['10_Feature.csv', '10_Label.csv']\n",
      "['0_Feature.csv', '0_Label.csv']\n",
      "['5_Feature.csv', '5_Label.csv']\n",
      "['10_Feature.csv', '10_Label.csv']\n",
      "['0_Feature.csv', '0_Label.csv']\n",
      "['5_Feature.csv', '5_Label.csv']\n",
      "['10_Feature.csv', '10_Label.csv']\n",
      "['0_Feature.csv', '0_Label.csv']\n",
      "['5_Feature.csv', '5_Label.csv']\n",
      "['10_Feature.csv', '10_Label.csv']\n",
      "['0_Feature.csv', '0_Label.csv']\n",
      "['5_Feature.csv', '5_Label.csv']\n",
      "['10_Feature.csv', '10_Label.csv']\n",
      "['0_Feature.csv', '0_Label.csv']\n",
      "['5_Feature.csv', '5_Label.csv']\n",
      "['10_Feature.csv', '10_Label.csv']\n",
      "['0_Feature.csv', '0_Label.csv']\n",
      "['5_Feature.csv', '5_Label.csv']\n",
      "['10_Feature.csv', '10_Label.csv']\n",
      "['0_Feature.csv', '0_Label.csv']\n",
      "['5_Feature.csv', '5_Label.csv']\n",
      "['10_Feature.csv', '10_Label.csv']\n",
      "['0_Feature.csv', '0_Label.csv']\n",
      "['5_Feature.csv', '5_Label.csv']\n",
      "['10_Feature.csv', '10_Label.csv']\n",
      "['0_Feature.csv', '0_Label.csv']\n",
      "['5_Feature.csv', '5_Label.csv']\n",
      "['10_Feature.csv', '10_Label.csv']\n",
      "['0_Feature.csv', '0_Label.csv']\n",
      "['5_Feature.csv', '5_Label.csv']\n",
      "['10_Feature.csv', '10_Label.csv']\n",
      "['0_Feature.csv', '0_Label.csv']\n",
      "['5_Feature.csv', '5_Label.csv']\n",
      "['10_Feature.csv', '10_Label.csv']\n",
      "['0_Feature.csv', '0_Label.csv']\n",
      "['5_Feature.csv', '5_Label.csv']\n",
      "['10_Feature.csv', '10_Label.csv']\n",
      "['0_Feature.csv', '0_Label.csv']\n",
      "['5_Feature.csv', '5_Label.csv']\n",
      "['10_Feature.csv', '10_Label.csv']\n",
      "['0_Feature.csv', '0_Label.csv']\n",
      "['5_Feature.csv', '5_Label.csv']\n",
      "['10_Feature.csv', '10_Label.csv']\n"
     ]
    }
   ],
   "source": [
    "extension = 'csv'\n",
    "\n",
    "for fold in folders:\n",
    "    path = \"./data/\" + str(fold)\n",
    "    os.chdir(path)\n",
    "    \n",
    "    for file in files:\n",
    "        fileFormat = str(file) + '_*.{}'\n",
    "        all_filenames = [i for i in glob.glob(fileFormat.format(extension))]\n",
    "        print(all_filenames)\n",
    "        #combine all files in the list\n",
    "        combined_csv = pd.concat([pd.read_csv(f,header=None) for f in all_filenames ],axis=1)\n",
    "        combined_csv.rename(columns = {0:'EAR',1:'MAR',2:'Circularity',3:'MOE',4:'Y'}, inplace = True)\n",
    "        combined_csv.columns.values[0] = 'EAR'\n",
    "        combined_csv.columns.values[1] = 'MAR'\n",
    "        combined_csv.columns.values[2] = 'Circularity'\n",
    "        combined_csv.columns.values[3] = 'MOE'\n",
    "        combined_csv.columns.values[4] = 'Y' \n",
    "        respondent = np.full((240,1),fold)\n",
    "        combined_csv[\"respondent\"] = respondent\n",
    "        combined_csv.to_csv( str(file) + \"_combined_csv.csv\",index = False, encoding='utf-8-sig')\n",
    "    #return to parent dir\n",
    "    path = \"../../\"\n",
    "    os.chdir(path)"
   ]
  },
  {
   "cell_type": "code",
   "execution_count": 3,
   "metadata": {},
   "outputs": [
    {
     "name": "stdout",
     "output_type": "stream",
     "text": [
      "4\n",
      "['0_combined_csv.csv', '10_combined_csv.csv', '5_combined_csv.csv']\n",
      "6\n",
      "['0_combined_csv.csv', '10_combined_csv.csv', '5_combined_csv.csv']\n",
      "9\n",
      "['0_combined_csv.csv', '10_combined_csv.csv', '5_combined_csv.csv']\n",
      "11\n",
      "['0_combined_csv.csv', '10_combined_csv.csv', '5_combined_csv.csv']\n",
      "12\n",
      "['0_combined_csv.csv', '10_combined_csv.csv', '5_combined_csv.csv']\n",
      "15\n",
      "['0_combined_csv.csv', '10_combined_csv.csv', '5_combined_csv.csv']\n",
      "16\n",
      "['0_combined_csv.csv', '10_combined_csv.csv', '5_combined_csv.csv']\n",
      "17\n",
      "['0_combined_csv.csv', '10_combined_csv.csv', '5_combined_csv.csv']\n",
      "23\n",
      "['0_combined_csv.csv', '10_combined_csv.csv', '5_combined_csv.csv']\n",
      "24\n",
      "['0_combined_csv.csv', '10_combined_csv.csv', '5_combined_csv.csv']\n",
      "27\n",
      "['0_combined_csv.csv', '10_combined_csv.csv', '5_combined_csv.csv']\n",
      "29\n",
      "['0_combined_csv.csv', '10_combined_csv.csv', '5_combined_csv.csv']\n",
      "34\n",
      "['0_combined_csv.csv', '10_combined_csv.csv', '5_combined_csv.csv']\n",
      "35\n",
      "['0_combined_csv.csv', '10_combined_csv.csv', '5_combined_csv.csv']\n",
      "36\n",
      "['0_combined_csv.csv', '10_combined_csv.csv', '5_combined_csv.csv']\n",
      "37\n",
      "['0_combined_csv.csv', '10_combined_csv.csv', '5_combined_csv.csv']\n",
      "39\n",
      "['0_combined_csv.csv', '10_combined_csv.csv', '5_combined_csv.csv']\n",
      "40\n",
      "['0_combined_csv.csv', '10_combined_csv.csv', '5_combined_csv.csv']\n",
      "44\n",
      "['0_combined_csv.csv', '10_combined_csv.csv', '5_combined_csv.csv']\n",
      "46\n",
      "['0_combined_csv.csv', '10_combined_csv.csv', '5_combined_csv.csv']\n",
      "48\n",
      "['0_combined_csv.csv', '10_combined_csv.csv', '5_combined_csv.csv']\n",
      "51\n",
      "['0_combined_csv.csv', '10_combined_csv.csv', '5_combined_csv.csv']\n",
      "54\n",
      "['0_combined_csv.csv', '10_combined_csv.csv', '5_combined_csv.csv']\n",
      "55\n",
      "['0_combined_csv.csv', '10_combined_csv.csv', '5_combined_csv.csv']\n",
      "60\n",
      "['0_combined_csv.csv', '10_combined_csv.csv', '5_combined_csv.csv']\n"
     ]
    }
   ],
   "source": [
    "for fold in folders:\n",
    "    path = \"./data/\" + str(fold)\n",
    "    os.chdir(path)\n",
    "    print(fold)\n",
    "    fileFormat = '*_combined_csv.{}'\n",
    "    all_filenames = [i for i in glob.glob(fileFormat.format(extension))]\n",
    "    print(all_filenames)\n",
    "    #combine all files in the list\n",
    "    combined_csv = pd.concat([pd.read_csv(f) for f in all_filenames ],axis=0)\n",
    "    combined_csv.to_csv( str(fold) + \"_combined_csv.csv\", index=False, encoding='utf-8-sig')\n",
    "    path = \"../../\"\n",
    "    os.chdir(path)"
   ]
  },
  {
   "cell_type": "code",
   "execution_count": 4,
   "metadata": {},
   "outputs": [
    {
     "name": "stdout",
     "output_type": "stream",
     "text": [
      "['4/4_combined_csv.csv', '6/6_combined_csv.csv', '9/9_combined_csv.csv', '11/11_combined_csv.csv', '12/12_combined_csv.csv', '15/15_combined_csv.csv', '16/16_combined_csv.csv', '17/17_combined_csv.csv', '23/23_combined_csv.csv', '24/24_combined_csv.csv', '27/27_combined_csv.csv', '29/29_combined_csv.csv', '34/34_combined_csv.csv', '35/35_combined_csv.csv', '36/36_combined_csv.csv', '37/37_combined_csv.csv', '39/39_combined_csv.csv', '40/40_combined_csv.csv', '44/44_combined_csv.csv', '46/46_combined_csv.csv', '48/48_combined_csv.csv', '51/51_combined_csv.csv', '54/54_combined_csv.csv', '55/55_combined_csv.csv', '60/60_combined_csv.csv']\n"
     ]
    }
   ],
   "source": [
    "path = \"./data\"\n",
    "os.chdir(path)\n",
    "\n",
    "fileNames = []\n",
    "for fold in folders:\n",
    "    file = str(fold) + '/' + str(fold) + '_combined_csv.csv'\n",
    "    fileNames.append(file)\n",
    "print(fileNames)"
   ]
  },
  {
   "cell_type": "code",
   "execution_count": 5,
   "metadata": {},
   "outputs": [],
   "source": [
    "combined_csv = pd.concat([pd.read_csv(f) for f in fileNames ],axis=0)\n",
    "combined_csv.to_csv(\"total-re.csv\", index=False, encoding='utf-8-sig')"
   ]
  },
  {
   "cell_type": "code",
   "execution_count": null,
   "metadata": {},
   "outputs": [],
   "source": []
  }
 ],
 "metadata": {
  "kernelspec": {
   "display_name": "Python 3",
   "language": "python",
   "name": "python3"
  },
  "language_info": {
   "codemirror_mode": {
    "name": "ipython",
    "version": 3
   },
   "file_extension": ".py",
   "mimetype": "text/x-python",
   "name": "python",
   "nbconvert_exporter": "python",
   "pygments_lexer": "ipython3",
   "version": "3.6.9"
  }
 },
 "nbformat": 4,
 "nbformat_minor": 4
}
