{
 "cells": [
  {
   "cell_type": "code",
   "execution_count": 1,
   "metadata": {},
   "outputs": [],
   "source": [
    "from sklearn.base import BaseEstimator, TransformerMixin\n",
    "import pandas as pd\n",
    "from sklearn.model_selection import train_test_split\n",
    "from sklearn.metrics import roc_curve, roc_auc_score, f1_score\n",
    "from sklearn.naive_bayes import GaussianNB\n",
    "from sklearn.linear_model import LogisticRegression\n",
    "from sklearn.neural_network import MLPClassifier\n",
    "from sklearn.naive_bayes import BernoulliNB\n",
    "from sklearn.tree import DecisionTreeClassifier\n",
    "import numpy as np\n",
    "import matplotlib.pyplot as plt\n",
    "from sklearn.pipeline import Pipeline, FeatureUnion\n",
    "from sklearn.metrics import accuracy_score\n",
    "from sklearn.metrics import confusion_matrix\n",
    "from sklearn import metrics"
   ]
  },
  {
   "cell_type": "code",
   "execution_count": 3,
   "metadata": {},
   "outputs": [],
   "source": [
    "df = pd.read_csv('./data/totalwithmaininfo-re-remove27-35.csv',sep=',')\n",
    "df = df.drop(['respondent','Time'],axis=1)"
   ]
  },
  {
   "cell_type": "code",
   "execution_count": 4,
   "metadata": {},
   "outputs": [
    {
     "data": {
      "text/html": [
       "<div>\n",
       "<style scoped>\n",
       "    .dataframe tbody tr th:only-of-type {\n",
       "        vertical-align: middle;\n",
       "    }\n",
       "\n",
       "    .dataframe tbody tr th {\n",
       "        vertical-align: top;\n",
       "    }\n",
       "\n",
       "    .dataframe thead th {\n",
       "        text-align: right;\n",
       "    }\n",
       "</style>\n",
       "<table border=\"1\" class=\"dataframe\">\n",
       "  <thead>\n",
       "    <tr style=\"text-align: right;\">\n",
       "      <th></th>\n",
       "      <th>EAR</th>\n",
       "      <th>MAR</th>\n",
       "      <th>Circularity</th>\n",
       "      <th>MOE</th>\n",
       "      <th>Y</th>\n",
       "      <th>EAR_N</th>\n",
       "      <th>MAR_N</th>\n",
       "      <th>Circularity_N</th>\n",
       "      <th>MOE_N</th>\n",
       "    </tr>\n",
       "  </thead>\n",
       "  <tbody>\n",
       "    <tr>\n",
       "      <th>0</th>\n",
       "      <td>0.257930</td>\n",
       "      <td>0.349535</td>\n",
       "      <td>0.417689</td>\n",
       "      <td>1.355153</td>\n",
       "      <td>0</td>\n",
       "      <td>-0.264316</td>\n",
       "      <td>-0.374278</td>\n",
       "      <td>0.849206</td>\n",
       "      <td>-0.896940</td>\n",
       "    </tr>\n",
       "    <tr>\n",
       "      <th>1</th>\n",
       "      <td>0.274627</td>\n",
       "      <td>0.373514</td>\n",
       "      <td>0.366795</td>\n",
       "      <td>1.360079</td>\n",
       "      <td>0</td>\n",
       "      <td>1.105607</td>\n",
       "      <td>1.133150</td>\n",
       "      <td>-1.102199</td>\n",
       "      <td>-0.181311</td>\n",
       "    </tr>\n",
       "    <tr>\n",
       "      <th>2</th>\n",
       "      <td>0.250898</td>\n",
       "      <td>0.343417</td>\n",
       "      <td>0.402140</td>\n",
       "      <td>1.368750</td>\n",
       "      <td>0</td>\n",
       "      <td>-0.841291</td>\n",
       "      <td>-0.758872</td>\n",
       "      <td>0.252993</td>\n",
       "      <td>1.078251</td>\n",
       "    </tr>\n",
       "    <tr>\n",
       "      <th>3</th>\n",
       "      <td>0.300371</td>\n",
       "      <td>0.350838</td>\n",
       "      <td>0.415034</td>\n",
       "      <td>1.168016</td>\n",
       "      <td>0</td>\n",
       "      <td>3.217887</td>\n",
       "      <td>-0.292358</td>\n",
       "      <td>0.747404</td>\n",
       "      <td>-28.080064</td>\n",
       "    </tr>\n",
       "    <tr>\n",
       "      <th>4</th>\n",
       "      <td>0.293565</td>\n",
       "      <td>0.320649</td>\n",
       "      <td>0.448924</td>\n",
       "      <td>1.092257</td>\n",
       "      <td>0</td>\n",
       "      <td>2.659484</td>\n",
       "      <td>-2.190191</td>\n",
       "      <td>2.046805</td>\n",
       "      <td>-39.084731</td>\n",
       "    </tr>\n",
       "    <tr>\n",
       "      <th>...</th>\n",
       "      <td>...</td>\n",
       "      <td>...</td>\n",
       "      <td>...</td>\n",
       "      <td>...</td>\n",
       "      <td>...</td>\n",
       "      <td>...</td>\n",
       "      <td>...</td>\n",
       "      <td>...</td>\n",
       "      <td>...</td>\n",
       "    </tr>\n",
       "    <tr>\n",
       "      <th>16555</th>\n",
       "      <td>0.348480</td>\n",
       "      <td>0.475887</td>\n",
       "      <td>0.490477</td>\n",
       "      <td>1.365606</td>\n",
       "      <td>0</td>\n",
       "      <td>0.219129</td>\n",
       "      <td>3.819414</td>\n",
       "      <td>0.011833</td>\n",
       "      <td>3.904620</td>\n",
       "    </tr>\n",
       "    <tr>\n",
       "      <th>16556</th>\n",
       "      <td>0.262352</td>\n",
       "      <td>0.470458</td>\n",
       "      <td>0.395392</td>\n",
       "      <td>1.793234</td>\n",
       "      <td>0</td>\n",
       "      <td>-3.791320</td>\n",
       "      <td>3.531398</td>\n",
       "      <td>-2.815814</td>\n",
       "      <td>12.722770</td>\n",
       "    </tr>\n",
       "    <tr>\n",
       "      <th>16557</th>\n",
       "      <td>0.319431</td>\n",
       "      <td>0.578497</td>\n",
       "      <td>0.490811</td>\n",
       "      <td>1.811024</td>\n",
       "      <td>0</td>\n",
       "      <td>-1.133518</td>\n",
       "      <td>9.262957</td>\n",
       "      <td>0.021755</td>\n",
       "      <td>13.089620</td>\n",
       "    </tr>\n",
       "    <tr>\n",
       "      <th>16558</th>\n",
       "      <td>0.256146</td>\n",
       "      <td>0.540343</td>\n",
       "      <td>0.378786</td>\n",
       "      <td>2.109511</td>\n",
       "      <td>0</td>\n",
       "      <td>-4.080274</td>\n",
       "      <td>7.238872</td>\n",
       "      <td>-3.309649</td>\n",
       "      <td>19.244768</td>\n",
       "    </tr>\n",
       "    <tr>\n",
       "      <th>16559</th>\n",
       "      <td>0.326811</td>\n",
       "      <td>0.438478</td>\n",
       "      <td>0.450339</td>\n",
       "      <td>1.341686</td>\n",
       "      <td>0</td>\n",
       "      <td>-0.789883</td>\n",
       "      <td>1.834807</td>\n",
       "      <td>-1.181813</td>\n",
       "      <td>3.411361</td>\n",
       "    </tr>\n",
       "  </tbody>\n",
       "</table>\n",
       "<p>16560 rows × 9 columns</p>\n",
       "</div>"
      ],
      "text/plain": [
       "            EAR       MAR  Circularity       MOE  Y     EAR_N     MAR_N  \\\n",
       "0      0.257930  0.349535     0.417689  1.355153  0 -0.264316 -0.374278   \n",
       "1      0.274627  0.373514     0.366795  1.360079  0  1.105607  1.133150   \n",
       "2      0.250898  0.343417     0.402140  1.368750  0 -0.841291 -0.758872   \n",
       "3      0.300371  0.350838     0.415034  1.168016  0  3.217887 -0.292358   \n",
       "4      0.293565  0.320649     0.448924  1.092257  0  2.659484 -2.190191   \n",
       "...         ...       ...          ...       ... ..       ...       ...   \n",
       "16555  0.348480  0.475887     0.490477  1.365606  0  0.219129  3.819414   \n",
       "16556  0.262352  0.470458     0.395392  1.793234  0 -3.791320  3.531398   \n",
       "16557  0.319431  0.578497     0.490811  1.811024  0 -1.133518  9.262957   \n",
       "16558  0.256146  0.540343     0.378786  2.109511  0 -4.080274  7.238872   \n",
       "16559  0.326811  0.438478     0.450339  1.341686  0 -0.789883  1.834807   \n",
       "\n",
       "       Circularity_N      MOE_N  \n",
       "0           0.849206  -0.896940  \n",
       "1          -1.102199  -0.181311  \n",
       "2           0.252993   1.078251  \n",
       "3           0.747404 -28.080064  \n",
       "4           2.046805 -39.084731  \n",
       "...              ...        ...  \n",
       "16555       0.011833   3.904620  \n",
       "16556      -2.815814  12.722770  \n",
       "16557       0.021755  13.089620  \n",
       "16558      -3.309649  19.244768  \n",
       "16559      -1.181813   3.411361  \n",
       "\n",
       "[16560 rows x 9 columns]"
      ]
     },
     "execution_count": 4,
     "metadata": {},
     "output_type": "execute_result"
    }
   ],
   "source": [
    "df"
   ]
  },
  {
   "cell_type": "code",
   "execution_count": 5,
   "metadata": {},
   "outputs": [],
   "source": [
    "train_percentage = 19/23\n",
    "train_index = int(len(df)*train_percentage)\n",
    "test_index = len(df)-train_index"
   ]
  },
  {
   "cell_type": "code",
   "execution_count": 6,
   "metadata": {},
   "outputs": [],
   "source": [
    "df_train = df[:train_index]\n",
    "df_test = df[-test_index:]"
   ]
  },
  {
   "cell_type": "code",
   "execution_count": 7,
   "metadata": {},
   "outputs": [],
   "source": [
    "X_test = df_test.drop([\"Y\"],axis=1)\n",
    "y_test = df_test[\"Y\"]"
   ]
  },
  {
   "cell_type": "code",
   "execution_count": 8,
   "metadata": {},
   "outputs": [],
   "source": [
    "X_train = df_train.drop('Y',axis=1)\n",
    "y_train = df_train['Y']"
   ]
  },
  {
   "cell_type": "code",
   "execution_count": 9,
   "metadata": {},
   "outputs": [],
   "source": [
    "def average(y_pred):\n",
    "    for i in range(len(y_pred)):\n",
    "        if i % 240 == 0 or (i+1) % 240 == 0:\n",
    "            pass\n",
    "        else: \n",
    "            average = float(y_pred[i-1] +  y_pred[i] + y_pred[i+1])/3\n",
    "            if average >= 0.5:\n",
    "                y_pred[i] = 1\n",
    "            else:\n",
    "                y_pred[i] = 0\n",
    "    return y_pred"
   ]
  },
  {
   "cell_type": "markdown",
   "metadata": {},
   "source": [
    "**LOGISTIC REGRESSION**"
   ]
  },
  {
   "cell_type": "code",
   "execution_count": 10,
   "metadata": {},
   "outputs": [
    {
     "name": "stdout",
     "output_type": "stream",
     "text": [
      "LogisticRegression(max_iter=1000)\n"
     ]
    }
   ],
   "source": [
    "#LOGISTIC REGRESSION\n",
    "clf = LogisticRegression(max_iter=1000).fit(X_train, y_train)\n",
    "print(clf)\n",
    "y_pred_1 = clf.predict(X_test)\n",
    "y_pred_1 = average(y_pred_1)\n",
    "# y_score_1 = clf.predict_proba(X_test)[:,1]\n",
    "acc1 = accuracy_score(y_test, y_pred_1)\n",
    "# f1_score_1 = metrics.f1_score(y_test, y_pred_1)\n",
    "# roc_1 = metrics.roc_auc_score(y_test, y_score_1)\n",
    "# print([acc1,f1_score_1,roc_1])\n",
    "# print(confusion_matrix(y_test, y_pred_1))"
   ]
  },
  {
   "cell_type": "code",
   "execution_count": 11,
   "metadata": {},
   "outputs": [
    {
     "name": "stdout",
     "output_type": "stream",
     "text": [
      "0.8902777777777777\n"
     ]
    }
   ],
   "source": [
    "print(acc1)"
   ]
  },
  {
   "cell_type": "markdown",
   "metadata": {},
   "source": [
    "**DECISION TREE**"
   ]
  },
  {
   "cell_type": "code",
   "execution_count": 12,
   "metadata": {},
   "outputs": [
    {
     "name": "stdout",
     "output_type": "stream",
     "text": [
      "0.9309027777777777\n"
     ]
    }
   ],
   "source": [
    "from sklearn.tree import DecisionTreeClassifier\n",
    "acc5=[]\n",
    "max_depth = []\n",
    "for i in [2,3,4,5,6,7,8,9,10]:\n",
    "    clf_DT = DecisionTreeClassifier(random_state=0, max_depth = i)\n",
    "    clf_DT.fit(X_train, y_train)\n",
    "    pred_DT = clf_DT.predict(X_test)\n",
    "    pred_DT = average(pred_DT)\n",
    "    acc5.append(accuracy_score(pred_DT, y_test))\n",
    "    max_depth.append(i)\n",
    "print (max(acc5))"
   ]
  },
  {
   "cell_type": "code",
   "execution_count": 13,
   "metadata": {},
   "outputs": [
    {
     "name": "stdout",
     "output_type": "stream",
     "text": [
      "2\n"
     ]
    }
   ],
   "source": [
    "best_depth = max_depth[acc5.index(max(acc5))]\n",
    "print(best_depth)"
   ]
  },
  {
   "cell_type": "markdown",
   "metadata": {},
   "source": [
    "**RANDOM FOREST**"
   ]
  },
  {
   "cell_type": "code",
   "execution_count": 14,
   "metadata": {},
   "outputs": [
    {
     "name": "stdout",
     "output_type": "stream",
     "text": [
      "0.9350694444444444\n"
     ]
    }
   ],
   "source": [
    "from sklearn.ensemble import RandomForestClassifier\n",
    "acc6=[]\n",
    "max_depth = []\n",
    "for i in range(1,10):\n",
    "    clf_RF = RandomForestClassifier(max_depth=i)\n",
    "    clf_RF.fit(X_train, y_train) \n",
    "    pred_RF = clf_RF.predict(X_test)\n",
    "    pred_RF = average(pred_RF)\n",
    "    acc6.append(accuracy_score(pred_RF, y_test))\n",
    "    max_depth.append(i)\n",
    "print (max(acc6))"
   ]
  },
  {
   "cell_type": "markdown",
   "metadata": {},
   "source": [
    "**KNN**"
   ]
  },
  {
   "cell_type": "code",
   "execution_count": 15,
   "metadata": {},
   "outputs": [
    {
     "name": "stdout",
     "output_type": "stream",
     "text": [
      "[0.7909722222222222]\n",
      "[[2169  425]\n",
      " [ 177  109]]\n"
     ]
    }
   ],
   "source": [
    "acc3_list = []\n",
    "f1_score3_list = []\n",
    "roc_3_list = []\n",
    "from sklearn.neighbors import KNeighborsClassifier\n",
    "for i in range(1,30):\n",
    "    neigh = KNeighborsClassifier(n_neighbors=i)\n",
    "    neigh.fit(X_train, y_train) \n",
    "    pred_KN = neigh.predict(X_test)\n",
    "    pred_KN = average(pred_KN)\n",
    "    y_score_3 = neigh.predict_proba(X_test)[:,1]\n",
    "    acc3_list.append(accuracy_score(y_test, pred_KN))\n",
    "    f1_score3_list.append(metrics.f1_score(y_test, pred_KN))\n",
    "    roc_3_list.append(metrics.roc_auc_score(y_test, y_score_3))\n",
    "    \n",
    "    \n",
    "neigh = KNeighborsClassifier(n_neighbors=acc3_list.index(max(acc3_list))+1)\n",
    "neigh.fit(X_train, y_train) \n",
    "pred_KN = neigh.predict(X_test)\n",
    "pred_KN = average(pred_KN)\n",
    "y_score_3 = neigh.predict_proba(X_test)[:,1]\n",
    "acc3 = accuracy_score(y_test, pred_KN)\n",
    "# f1_score_3 = metrics.f1_score(y_test, pred_KN)\n",
    "# roc_3 = metrics.roc_auc_score(y_test, y_score_3)\n",
    "print([acc3])\n",
    "print(confusion_matrix(y_test, pred_KN))"
   ]
  },
  {
   "cell_type": "markdown",
   "metadata": {},
   "source": [
    "**Naives Bayers**"
   ]
  },
  {
   "cell_type": "code",
   "execution_count": 16,
   "metadata": {},
   "outputs": [
    {
     "name": "stdout",
     "output_type": "stream",
     "text": [
      "[0.8503472222222223, 0.5096700796359499]\n"
     ]
    }
   ],
   "source": [
    "clf_NB = GaussianNB()\n",
    "clf_NB.fit(X_train, y_train)\n",
    "pred_NB = clf_NB.predict(X_test)\n",
    "pred_NB = average(pred_NB)\n",
    "y_score_2 = clf_NB.predict_proba(X_test)[:,1]\n",
    "acc2 = accuracy_score(y_test, pred_NB)\n",
    "f1_score_2 = metrics.f1_score(y_test, pred_NB)\n",
    "# roc_2 = metrics.roc_auc_score(y_test, y_score_2)\n",
    "print([acc2,f1_score_2])\n",
    "# print(confusion_matrix(y_test, pred_NB))"
   ]
  },
  {
   "cell_type": "code",
   "execution_count": null,
   "metadata": {},
   "outputs": [],
   "source": []
  }
 ],
 "metadata": {
  "kernelspec": {
   "display_name": "Python 3",
   "language": "python",
   "name": "python3"
  },
  "language_info": {
   "codemirror_mode": {
    "name": "ipython",
    "version": 3
   },
   "file_extension": ".py",
   "mimetype": "text/x-python",
   "name": "python",
   "nbconvert_exporter": "python",
   "pygments_lexer": "ipython3",
   "version": "3.6.9"
  }
 },
 "nbformat": 4,
 "nbformat_minor": 4
}
