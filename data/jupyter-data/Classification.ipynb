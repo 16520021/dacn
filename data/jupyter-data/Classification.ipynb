{
 "cells": [
  {
   "cell_type": "code",
   "execution_count": 1,
   "metadata": {},
   "outputs": [],
   "source": [
    "from sklearn.base import BaseEstimator, TransformerMixin\n",
    "import pandas as pd\n",
    "from sklearn.model_selection import train_test_split\n",
    "from sklearn.metrics import roc_curve, roc_auc_score, f1_score\n",
    "from sklearn.naive_bayes import GaussianNB\n",
    "from sklearn.linear_model import LogisticRegression\n",
    "from sklearn.neural_network import MLPClassifier\n",
    "from sklearn.naive_bayes import BernoulliNB\n",
    "from sklearn.tree import DecisionTreeClassifier\n",
    "import numpy as np\n",
    "import matplotlib.pyplot as plt\n",
    "from sklearn.pipeline import Pipeline, FeatureUnion\n",
    "from sklearn.metrics import accuracy_score\n",
    "from sklearn.metrics import confusion_matrix\n",
    "from sklearn import metrics"
   ]
  },
  {
   "cell_type": "code",
   "execution_count": 2,
   "metadata": {},
   "outputs": [],
   "source": [
    "df = pd.read_csv('./data/totalwithmaininfo-re-3.csv',sep=',')\n",
    "df = df.drop(['respondent'],axis=1)"
   ]
  },
  {
   "cell_type": "code",
   "execution_count": 3,
   "metadata": {},
   "outputs": [
    {
     "data": {
      "text/html": [
       "<div>\n",
       "<style scoped>\n",
       "    .dataframe tbody tr th:only-of-type {\n",
       "        vertical-align: middle;\n",
       "    }\n",
       "\n",
       "    .dataframe tbody tr th {\n",
       "        vertical-align: top;\n",
       "    }\n",
       "\n",
       "    .dataframe thead th {\n",
       "        text-align: right;\n",
       "    }\n",
       "</style>\n",
       "<table border=\"1\" class=\"dataframe\">\n",
       "  <thead>\n",
       "    <tr style=\"text-align: right;\">\n",
       "      <th></th>\n",
       "      <th>EAR</th>\n",
       "      <th>MAR</th>\n",
       "      <th>Circularity</th>\n",
       "      <th>MOE</th>\n",
       "      <th>Y</th>\n",
       "      <th>EAR_N</th>\n",
       "      <th>MAR_N</th>\n",
       "      <th>Circularity_N</th>\n",
       "      <th>MOE_N</th>\n",
       "    </tr>\n",
       "  </thead>\n",
       "  <tbody>\n",
       "    <tr>\n",
       "      <th>0</th>\n",
       "      <td>0.094047</td>\n",
       "      <td>0.249984</td>\n",
       "      <td>0.252997</td>\n",
       "      <td>2.658085</td>\n",
       "      <td>1</td>\n",
       "      <td>-13.710813</td>\n",
       "      <td>-6.632470</td>\n",
       "      <td>-5.465475</td>\n",
       "      <td>188.365026</td>\n",
       "    </tr>\n",
       "    <tr>\n",
       "      <th>1</th>\n",
       "      <td>0.123201</td>\n",
       "      <td>0.377198</td>\n",
       "      <td>0.260764</td>\n",
       "      <td>3.061654</td>\n",
       "      <td>1</td>\n",
       "      <td>-11.318740</td>\n",
       "      <td>1.364749</td>\n",
       "      <td>-5.167676</td>\n",
       "      <td>246.986888</td>\n",
       "    </tr>\n",
       "    <tr>\n",
       "      <th>2</th>\n",
       "      <td>0.120386</td>\n",
       "      <td>0.310688</td>\n",
       "      <td>0.282237</td>\n",
       "      <td>2.580770</td>\n",
       "      <td>1</td>\n",
       "      <td>-11.549712</td>\n",
       "      <td>-2.816360</td>\n",
       "      <td>-4.344351</td>\n",
       "      <td>177.134403</td>\n",
       "    </tr>\n",
       "    <tr>\n",
       "      <th>3</th>\n",
       "      <td>0.260234</td>\n",
       "      <td>0.571277</td>\n",
       "      <td>0.296206</td>\n",
       "      <td>2.195246</td>\n",
       "      <td>1</td>\n",
       "      <td>-0.075324</td>\n",
       "      <td>13.565338</td>\n",
       "      <td>-3.808766</td>\n",
       "      <td>121.133736</td>\n",
       "    </tr>\n",
       "    <tr>\n",
       "      <th>4</th>\n",
       "      <td>0.176730</td>\n",
       "      <td>0.197190</td>\n",
       "      <td>0.296562</td>\n",
       "      <td>1.115770</td>\n",
       "      <td>1</td>\n",
       "      <td>-6.926761</td>\n",
       "      <td>-9.951340</td>\n",
       "      <td>-3.795122</td>\n",
       "      <td>-35.669328</td>\n",
       "    </tr>\n",
       "    <tr>\n",
       "      <th>...</th>\n",
       "      <td>...</td>\n",
       "      <td>...</td>\n",
       "      <td>...</td>\n",
       "      <td>...</td>\n",
       "      <td>...</td>\n",
       "      <td>...</td>\n",
       "      <td>...</td>\n",
       "      <td>...</td>\n",
       "      <td>...</td>\n",
       "    </tr>\n",
       "    <tr>\n",
       "      <th>17995</th>\n",
       "      <td>0.380395</td>\n",
       "      <td>0.594847</td>\n",
       "      <td>0.575300</td>\n",
       "      <td>1.563762</td>\n",
       "      <td>0</td>\n",
       "      <td>1.705177</td>\n",
       "      <td>10.130346</td>\n",
       "      <td>2.534295</td>\n",
       "      <td>7.990808</td>\n",
       "    </tr>\n",
       "    <tr>\n",
       "      <th>17996</th>\n",
       "      <td>0.395783</td>\n",
       "      <td>0.434963</td>\n",
       "      <td>0.580511</td>\n",
       "      <td>1.098994</td>\n",
       "      <td>0</td>\n",
       "      <td>2.421697</td>\n",
       "      <td>1.648345</td>\n",
       "      <td>2.689264</td>\n",
       "      <td>-1.593234</td>\n",
       "    </tr>\n",
       "    <tr>\n",
       "      <th>17997</th>\n",
       "      <td>0.383986</td>\n",
       "      <td>0.403942</td>\n",
       "      <td>0.583252</td>\n",
       "      <td>1.051970</td>\n",
       "      <td>0</td>\n",
       "      <td>1.872395</td>\n",
       "      <td>0.002658</td>\n",
       "      <td>2.770767</td>\n",
       "      <td>-2.562906</td>\n",
       "    </tr>\n",
       "    <tr>\n",
       "      <th>17998</th>\n",
       "      <td>0.383426</td>\n",
       "      <td>0.431997</td>\n",
       "      <td>0.583910</td>\n",
       "      <td>1.126678</td>\n",
       "      <td>0</td>\n",
       "      <td>1.846308</td>\n",
       "      <td>1.491029</td>\n",
       "      <td>2.790331</td>\n",
       "      <td>-1.022349</td>\n",
       "    </tr>\n",
       "    <tr>\n",
       "      <th>17999</th>\n",
       "      <td>0.380099</td>\n",
       "      <td>0.388985</td>\n",
       "      <td>0.588430</td>\n",
       "      <td>1.023376</td>\n",
       "      <td>0</td>\n",
       "      <td>1.691425</td>\n",
       "      <td>-0.790838</td>\n",
       "      <td>2.924768</td>\n",
       "      <td>-3.152556</td>\n",
       "    </tr>\n",
       "  </tbody>\n",
       "</table>\n",
       "<p>18000 rows × 9 columns</p>\n",
       "</div>"
      ],
      "text/plain": [
       "            EAR       MAR  Circularity       MOE  Y      EAR_N      MAR_N  \\\n",
       "0      0.094047  0.249984     0.252997  2.658085  1 -13.710813  -6.632470   \n",
       "1      0.123201  0.377198     0.260764  3.061654  1 -11.318740   1.364749   \n",
       "2      0.120386  0.310688     0.282237  2.580770  1 -11.549712  -2.816360   \n",
       "3      0.260234  0.571277     0.296206  2.195246  1  -0.075324  13.565338   \n",
       "4      0.176730  0.197190     0.296562  1.115770  1  -6.926761  -9.951340   \n",
       "...         ...       ...          ...       ... ..        ...        ...   \n",
       "17995  0.380395  0.594847     0.575300  1.563762  0   1.705177  10.130346   \n",
       "17996  0.395783  0.434963     0.580511  1.098994  0   2.421697   1.648345   \n",
       "17997  0.383986  0.403942     0.583252  1.051970  0   1.872395   0.002658   \n",
       "17998  0.383426  0.431997     0.583910  1.126678  0   1.846308   1.491029   \n",
       "17999  0.380099  0.388985     0.588430  1.023376  0   1.691425  -0.790838   \n",
       "\n",
       "       Circularity_N       MOE_N  \n",
       "0          -5.465475  188.365026  \n",
       "1          -5.167676  246.986888  \n",
       "2          -4.344351  177.134403  \n",
       "3          -3.808766  121.133736  \n",
       "4          -3.795122  -35.669328  \n",
       "...              ...         ...  \n",
       "17995       2.534295    7.990808  \n",
       "17996       2.689264   -1.593234  \n",
       "17997       2.770767   -2.562906  \n",
       "17998       2.790331   -1.022349  \n",
       "17999       2.924768   -3.152556  \n",
       "\n",
       "[18000 rows x 9 columns]"
      ]
     },
     "execution_count": 3,
     "metadata": {},
     "output_type": "execute_result"
    }
   ],
   "source": [
    "df"
   ]
  },
  {
   "cell_type": "code",
   "execution_count": 4,
   "metadata": {},
   "outputs": [],
   "source": [
    "train_percentage = 21/25\n",
    "train_index = int(len(df)*train_percentage)\n",
    "test_index = len(df)-train_index"
   ]
  },
  {
   "cell_type": "code",
   "execution_count": 5,
   "metadata": {},
   "outputs": [],
   "source": [
    "df_train = df[:train_index]\n",
    "df_test = df[-test_index:]"
   ]
  },
  {
   "cell_type": "code",
   "execution_count": 6,
   "metadata": {},
   "outputs": [],
   "source": [
    "X_test = df_test.drop([\"Y\"],axis=1)\n",
    "y_test = df_test[\"Y\"]"
   ]
  },
  {
   "cell_type": "code",
   "execution_count": 7,
   "metadata": {},
   "outputs": [],
   "source": [
    "X_train = df_train.drop('Y',axis=1)\n",
    "y_train = df_train['Y']"
   ]
  },
  {
   "cell_type": "code",
   "execution_count": 8,
   "metadata": {},
   "outputs": [],
   "source": [
    "def average(y_pred):\n",
    "  for i in range(len(y_pred)):\n",
    "    if i % 240 == 0 or (i+1) % 240 == 0:\n",
    "      pass\n",
    "    else: \n",
    "      average = float(y_pred[i-1] +  y_pred[i] + y_pred[i+1])/3\n",
    "      if average >= 0.5:\n",
    "        y_pred[i] = 1\n",
    "      else:\n",
    "        y_pred[i] = 0\n",
    "  return y_pred"
   ]
  },
  {
   "cell_type": "code",
   "execution_count": 9,
   "metadata": {},
   "outputs": [
    {
     "name": "stdout",
     "output_type": "stream",
     "text": [
      "LogisticRegression(max_iter=1000)\n"
     ]
    }
   ],
   "source": [
    "clf = LogisticRegression(max_iter=1000).fit(X_train, y_train)\n",
    "print(clf)\n",
    "y_pred_1 = clf.predict(X_test)\n",
    "# y_pred_1 = average(y_pred_1)\n",
    "# y_score_1 = clf.predict_proba(X_test)[:,1]\n",
    "acc1 = accuracy_score(y_test, y_pred_1)\n",
    "# f1_score_1 = metrics.f1_score(y_test, y_pred_1)\n",
    "# roc_1 = metrics.roc_auc_score(y_test, y_score_1)\n",
    "# print([acc1,f1_score_1,roc_1])\n",
    "# print(confusion_matrix(y_test, y_pred_1))"
   ]
  },
  {
   "cell_type": "code",
   "execution_count": 10,
   "metadata": {},
   "outputs": [
    {
     "name": "stdout",
     "output_type": "stream",
     "text": [
      "0.9454861111111111\n"
     ]
    }
   ],
   "source": [
    "print(acc1)"
   ]
  },
  {
   "cell_type": "code",
   "execution_count": 11,
   "metadata": {},
   "outputs": [
    {
     "name": "stdout",
     "output_type": "stream",
     "text": [
      "0.9913194444444444\n"
     ]
    }
   ],
   "source": [
    "from sklearn.tree import DecisionTreeClassifier\n",
    "acc5=[]\n",
    "max_depth = []\n",
    "for i in [2,3,4,5,6,7,8,9,10]:\n",
    "    clf_DT = DecisionTreeClassifier(random_state=0, max_depth = i)\n",
    "    clf_DT.fit(X_train, y_train)\n",
    "    pred_DT = clf_DT.predict(X_test)\n",
    "    pred_DT = average(pred_DT)\n",
    "    acc5.append(accuracy_score(pred_DT, y_test))\n",
    "    max_depth.append(i)\n",
    "print (max(acc5))"
   ]
  },
  {
   "cell_type": "code",
   "execution_count": 12,
   "metadata": {},
   "outputs": [
    {
     "name": "stdout",
     "output_type": "stream",
     "text": [
      "0.9913194444444444\n"
     ]
    }
   ],
   "source": [
    "from sklearn.ensemble import RandomForestClassifier\n",
    "acc6=[]\n",
    "max_depth = []\n",
    "for i in range(1,10):\n",
    "    clf_RF = RandomForestClassifier(max_depth=i)\n",
    "    clf_RF.fit(X_train, y_train) \n",
    "    pred_RF = clf_RF.predict(X_test)\n",
    "    pred_RF = average(pred_RF)\n",
    "    acc6.append(accuracy_score(pred_RF, y_test))\n",
    "    max_depth.append(i)\n",
    "print (max(acc6))"
   ]
  },
  {
   "cell_type": "code",
   "execution_count": 13,
   "metadata": {},
   "outputs": [],
   "source": [
    "acc3_list = []\n",
    "f1_score3_list = []\n",
    "roc_3_list = []\n",
    "from sklearn.neighbors import KNeighborsClassifier\n",
    "for i in range(1,30):\n",
    "    neigh = KNeighborsClassifier(n_neighbors=i)\n",
    "    neigh.fit(X_train, y_train) \n",
    "    pred_KN = neigh.predict(X_test)\n",
    "    pred_KN = average(pred_KN)\n",
    "    y_score_3 = neigh.predict_proba(X_test)[:,1]\n",
    "    acc3_list.append(accuracy_score(y_test, pred_KN))\n",
    "    f1_score3_list.append(metrics.f1_score(y_test, pred_KN))\n",
    "    roc_3_list.append(metrics.roc_auc_score(y_test, y_score_3))"
   ]
  },
  {
   "cell_type": "code",
   "execution_count": 14,
   "metadata": {},
   "outputs": [
    {
     "data": {
      "text/plain": [
       "2"
      ]
     },
     "execution_count": 14,
     "metadata": {},
     "output_type": "execute_result"
    }
   ],
   "source": [
    "acc3_list.index(max(acc3_list))+1"
   ]
  },
  {
   "cell_type": "code",
   "execution_count": 15,
   "metadata": {},
   "outputs": [
    {
     "name": "stdout",
     "output_type": "stream",
     "text": [
      "[0.8368055555555556, 0.6109271523178809, 0.8115786448818736]\n",
      "[[2041  324]\n",
      " [ 146  369]]\n"
     ]
    }
   ],
   "source": [
    "neigh = KNeighborsClassifier(n_neighbors=acc3_list.index(max(acc3_list))+1)\n",
    "neigh.fit(X_train, y_train) \n",
    "pred_KN = neigh.predict(X_test)\n",
    "pred_KN = average(pred_KN)\n",
    "y_score_3 = neigh.predict_proba(X_test)[:,1]\n",
    "acc3 = accuracy_score(y_test, pred_KN)\n",
    "f1_score_3 = metrics.f1_score(y_test, pred_KN)\n",
    "roc_3 = metrics.roc_auc_score(y_test, y_score_3)\n",
    "print([acc3,f1_score_3,roc_3])\n",
    "print(confusion_matrix(y_test, pred_KN))"
   ]
  },
  {
   "cell_type": "code",
   "execution_count": 16,
   "metadata": {},
   "outputs": [
    {
     "name": "stdout",
     "output_type": "stream",
     "text": [
      "[0.8368055555555556]\n",
      "[[2041  324]\n",
      " [ 146  369]]\n"
     ]
    }
   ],
   "source": [
    "#KNN\n",
    "\n",
    "acc3_list = []\n",
    "f1_score3_list = []\n",
    "roc_3_list = []\n",
    "from sklearn.neighbors import KNeighborsClassifier\n",
    "for i in range(1,30):\n",
    "    neigh = KNeighborsClassifier(n_neighbors=i)\n",
    "    neigh.fit(X_train, y_train) \n",
    "    pred_KN = neigh.predict(X_test)\n",
    "    pred_KN = average(pred_KN)\n",
    "    y_score_3 = neigh.predict_proba(X_test)[:,1]\n",
    "    acc3_list.append(accuracy_score(y_test, pred_KN))\n",
    "    f1_score3_list.append(metrics.f1_score(y_test, pred_KN))\n",
    "    roc_3_list.append(metrics.roc_auc_score(y_test, y_score_3))\n",
    "    \n",
    "    \n",
    "neigh = KNeighborsClassifier(n_neighbors=acc3_list.index(max(acc3_list))+1)\n",
    "neigh.fit(X_train, y_train) \n",
    "pred_KN = neigh.predict(X_test)\n",
    "pred_KN = average(pred_KN)\n",
    "y_score_3 = neigh.predict_proba(X_test)[:,1]\n",
    "acc3 = accuracy_score(y_test, pred_KN)\n",
    "# f1_score_3 = metrics.f1_score(y_test, pred_KN)\n",
    "# roc_3 = metrics.roc_auc_score(y_test, y_score_3)\n",
    "print([acc3])\n",
    "print(confusion_matrix(y_test, pred_KN))"
   ]
  },
  {
   "cell_type": "code",
   "execution_count": null,
   "metadata": {},
   "outputs": [],
   "source": []
  }
 ],
 "metadata": {
  "kernelspec": {
   "display_name": "Python 3",
   "language": "python",
   "name": "python3"
  },
  "language_info": {
   "codemirror_mode": {
    "name": "ipython",
    "version": 3
   },
   "file_extension": ".py",
   "mimetype": "text/x-python",
   "name": "python",
   "nbconvert_exporter": "python",
   "pygments_lexer": "ipython3",
   "version": "3.6.9"
  }
 },
 "nbformat": 4,
 "nbformat_minor": 4
}
